{
 "cells": [
  {
   "cell_type": "code",
   "execution_count": 1,
   "metadata": {
    "vscode": {
     "languageId": "java"
    }
   },
   "outputs": [],
   "source": [
    "import java.lang.*;\n",
    "import java.util.*;"
   ]
  },
  {
   "cell_type": "markdown",
   "metadata": {},
   "source": [
    "# <span style=\"color:red\">DAY-1</span>"
   ]
  },
  {
   "cell_type": "markdown",
   "metadata": {},
   "source": [
    "## <span style=\"color:pink\">Title:</span> <span style=\"color:orange\">Beginner: Input & Output</span>"
   ]
  },
  {
   "cell_type": "code",
   "execution_count": 7,
   "metadata": {},
   "outputs": [],
   "source": [
    "import java.lang.*;\n",
    "import java.util.*;\n",
    "\n",
    "public class Main {\n",
    "    public static void main(String[] args) {\n",
    "        System.out.println(\"Hello\");\n",
    "    }\n",
    "}"
   ]
  },
  {
   "cell_type": "markdown",
   "metadata": {},
   "source": [
    "## <span style=\"color:green\">Problem-1</span>"
   ]
  },
  {
   "cell_type": "markdown",
   "metadata": {},
   "source": [
    "#### <span style=\"color:blue\">Description:</span>"
   ]
  },
  {
   "cell_type": "markdown",
   "metadata": {},
   "source": [
    "Q1. A says Hi to B\n",
    "Solved\n",
    "feature icon\n",
    "Using hints is now penalty free\n",
    "Use Hint\n",
    "Problem Description\n",
    "Given two names A and B as input, print \"A says Hi to B\" (Without quotations), where A and B are the names in input.\n",
    "\n",
    "\n",
    "Problem Constraints\n",
    "1 <= len(A), len(B) <= 15\n",
    "Characters in A and B are in lowercase English Alphabets.\n",
    "\n",
    "\n",
    "Input Format\n",
    "There are two input lines\n",
    "The first line has a string A.\n",
    "The second line has a string B.\n",
    "\n",
    "\n",
    "Output Format\n",
    "Print in a single line A says Hi to B.\n",
    "\n",
    "\n",
    "Example Input\n",
    "Input:-\n",
    "Ram\n",
    "Shyam\n",
    "\n",
    "\n",
    "Example Output\n",
    "Output:-\n",
    "Ram says Hi to Shyam"
   ]
  },
  {
   "cell_type": "markdown",
   "metadata": {},
   "source": [
    "### <span style=\"color:blue\">Solution:</span>"
   ]
  },
  {
   "cell_type": "code",
   "execution_count": null,
   "metadata": {
    "vscode": {
     "languageId": "java"
    }
   },
   "outputs": [
    {
     "name": "stdin",
     "output_type": "stream",
     "text": [
      " raj\n",
      " raj\n"
     ]
    },
    {
     "name": "stdout",
     "output_type": "stream",
     "text": [
      "raj says Hi to raj\n"
     ]
    }
   ],
   "source": [
    "Scanner scn = new Scanner(System.in);\n",
    "        \n",
    "String A = scn.nextLine();\n",
    "String B = scn.next();\n",
    "if (A.length()>=1 && B.length()<=15 ) {\n",
    "    if (A==A.toLowerCase() && B==B.toLowerCase()){\n",
    "    System.out.println(A + \" says Hi to \" + B);\n",
    "    };\n",
    "};\n"
   ]
  },
  {
   "cell_type": "markdown",
   "metadata": {},
   "source": [
    "## <span style=\"color:green\">Problem-2</span>"
   ]
  },
  {
   "cell_type": "markdown",
   "metadata": {},
   "source": [
    "#### <span style=\"color:blue\">Description:</span>"
   ]
  },
  {
   "cell_type": "markdown",
   "metadata": {},
   "source": [
    "Q2. Print A B C D E\n",
    "Solved\n",
    "feature icon\n",
    "Using hints is now penalty free\n",
    "Use Hint\n",
    "Problem Description\n",
    "Print the first five letters of the English alphabet i.e. A, B, C, D and E.\n",
    "\n",
    "\n",
    "Output Format\n",
    "Print the characters in separate lines.\n",
    "\n",
    "\n",
    "Example Output\n",
    "A\n",
    "B\n",
    "C\n",
    "D\n",
    "E"
   ]
  },
  {
   "cell_type": "markdown",
   "metadata": {},
   "source": [
    "### <span style=\"color:blue\">Solution:</span>"
   ]
  },
  {
   "cell_type": "code",
   "execution_count": 10,
   "metadata": {
    "vscode": {
     "languageId": "java"
    }
   },
   "outputs": [
    {
     "name": "stdout",
     "output_type": "stream",
     "text": [
      "A\n",
      "B\n",
      "C\n",
      "D\n",
      "E\n"
     ]
    }
   ],
   "source": [
    "char c;\n",
    "\n",
    "for (c='A';c<='E';++c) {\n",
    "    System.out.println(c);\n",
    "}"
   ]
  },
  {
   "cell_type": "markdown",
   "metadata": {},
   "source": [
    "## <span style=\"color:green\">Problem-3</span>"
   ]
  },
  {
   "cell_type": "markdown",
   "metadata": {},
   "source": [
    "#### <span style=\"color:blue\">Description:</span>"
   ]
  },
  {
   "cell_type": "markdown",
   "metadata": {},
   "source": [
    "Q3. Hello World !\n",
    "Solved\n",
    "feature icon\n",
    "Using hints is now penalty free\n",
    "Use Hint\n",
    "Problem Description\n",
    "Print \"Hello World !\" in the output.\n",
    "\n",
    "Output Format\n",
    "Print in a single line \"Hello World !\"\n",
    "\n",
    "\n",
    "Example Output\n",
    "Hello World !\n",
    "\n",
    "Note - You don't have to print \"\" in the output"
   ]
  },
  {
   "cell_type": "markdown",
   "metadata": {},
   "source": [
    "### <span style=\"color:blue\">Solution:</span>"
   ]
  },
  {
   "cell_type": "code",
   "execution_count": 11,
   "metadata": {
    "vscode": {
     "languageId": "java"
    }
   },
   "outputs": [
    {
     "name": "stdout",
     "output_type": "stream",
     "text": [
      "Hello World !\n"
     ]
    }
   ],
   "source": [
    "System.out.println(\"Hello World !\");"
   ]
  },
  {
   "cell_type": "markdown",
   "metadata": {},
   "source": [
    "## <span style=\"color:green\">Problem-4</span>"
   ]
  },
  {
   "cell_type": "markdown",
   "metadata": {},
   "source": [
    "#### <span style=\"color:blue\">Description:</span>"
   ]
  },
  {
   "cell_type": "markdown",
   "metadata": {},
   "source": [
    "Q4. A Simple Calculator\n",
    "feature icon\n",
    "Using hints is now penalty free\n",
    "Use Hint\n",
    "Problem Description\n",
    "Given two numbers A and B. Print A+B, A*B, A-B, A/B in the same order.\n",
    "\n",
    "\n",
    "Problem Constraints\n",
    "1 <= A, B <= 104\n",
    "\n",
    "\n",
    "Input Format\n",
    "There are two input lines\n",
    "The first line has a single integer A.\n",
    "The second line has a single integer B.\n",
    "\n",
    "\n",
    "Output Format\n",
    "Print in a single line separated by space A+B, A*B, A-B, A/B in the same order.\n",
    "\n",
    "\n",
    "Example Input\n",
    "Input 1:-\n",
    "4\n",
    "5\n",
    "Input 2:-\n",
    "16\n",
    "2\n",
    "\n",
    "\n",
    "Example Output\n",
    "Output 1:-\n",
    "9 20 -1 0\n",
    "Output 2:-\n",
    "18 32 14 8\n",
    "\n",
    "\n",
    "Example Explanation\n",
    "Explanation 1:-\n",
    "4 + 5 = 9, 4 * 5 = 20, 4 - 5 = -1, 4 / 5 = 0\n",
    "Explanation 2:-\n",
    "16 + 2 = 18, 16 * 2 = 32, 16 - 2 = 14, 16 / 2 = 8"
   ]
  },
  {
   "cell_type": "markdown",
   "metadata": {},
   "source": [
    "### <span style=\"color:blue\">Solution:</span>"
   ]
  },
  {
   "cell_type": "code",
   "execution_count": 13,
   "metadata": {
    "vscode": {
     "languageId": "java"
    }
   },
   "outputs": [
    {
     "name": "stdin",
     "output_type": "stream",
     "text": [
      " 12\n",
      " 13\n"
     ]
    },
    {
     "name": "stdout",
     "output_type": "stream",
     "text": [
      "25 156 -1 0\n"
     ]
    }
   ],
   "source": [
    "Scanner scn = new Scanner(System.in);\n",
    "int A = scn.nextInt();\n",
    "int B = scn.nextInt();\n",
    "if (A>= 1 && B <=Math.pow(10,4)) {\n",
    "    System.out.println((A + B) + \" \" + (A * B) + \" \" + (A - B) + \" \"+ (A/B));\n",
    "};"
   ]
  },
  {
   "cell_type": "markdown",
   "metadata": {},
   "source": [
    "## <span style=\"color:green\">Problem-5</span>"
   ]
  },
  {
   "cell_type": "markdown",
   "metadata": {},
   "source": [
    "#### <span style=\"color:blue\">Description:</span>"
   ]
  },
  {
   "cell_type": "markdown",
   "metadata": {},
   "source": [
    "Q5. Remaining Bake Time\n",
    "Solved\n",
    "feature icon\n",
    "Using hints is now penalty free\n",
    "Use Hint\n",
    "Problem Description\n",
    "You're going to write some code to help you cook a gorgeous lasagna from your favorite cookbook. According to your cookbook, the Lasagna should be in the oven for 40 minutes. Given the time (in minutes), the lasagna has been in the oven, find how many more minutes the lasagna still needs to bake for.\n",
    "\n",
    "\n",
    "Problem Constraints\n",
    "0 <= N <= 40\n",
    "\n",
    "\n",
    "Input Format\n",
    "The only first line contains the integer N, denoting the actual time (in minutes) the lasagna has been in the oven for.\n",
    "\n",
    "\n",
    "Output Format\n",
    "Print in a single line how many minutes the lasagna needs to bake.\n",
    "\n",
    "\n",
    "Example Input\n",
    "Input: \n",
    "30\n",
    "\n",
    "\n",
    "Example Output\n",
    "Output: \n",
    "10\n",
    "\n",
    "\n",
    "Example Explanation\n",
    "Note: The problem constraints mean that when we test your code, the test cases used in the backend can have input values only within those constraints.You need not implement them in your code.You need to make sure your code will work for all such input values!"
   ]
  },
  {
   "cell_type": "markdown",
   "metadata": {},
   "source": [
    "### <span style=\"color:blue\">Solution:</span>"
   ]
  },
  {
   "cell_type": "code",
   "execution_count": 14,
   "metadata": {
    "vscode": {
     "languageId": "java"
    }
   },
   "outputs": [
    {
     "name": "stdin",
     "output_type": "stream",
     "text": [
      " 12\n"
     ]
    },
    {
     "name": "stdout",
     "output_type": "stream",
     "text": [
      "28\n"
     ]
    }
   ],
   "source": [
    "Scanner scn = new Scanner(System.in);\n",
    "int A = scn.nextInt();\n",
    "System.out.println(40-A);"
   ]
  },
  {
   "cell_type": "markdown",
   "metadata": {},
   "source": [
    "## <span style=\"color:green\">Problem-6</span>"
   ]
  },
  {
   "cell_type": "markdown",
   "metadata": {},
   "source": [
    "#### <span style=\"color:blue\">Description:</span>"
   ]
  },
  {
   "cell_type": "markdown",
   "metadata": {},
   "source": [
    "Q6. Preparation Time\n",
    "Solved\n",
    "feature icon\n",
    "Using hints is now penalty free\n",
    "Use Hint\n",
    "Problem Description\n",
    "You'll write some code to help you cook a gorgeous lasagna from your favorite cookbook. Now, you also want to add a few layers to the lasagna. Assume **each layer takes 2 minutes** to prepare. Given the number of layers you want to add to the lasagna, find how many minutes you would spend making them.\n",
    "\n",
    "\n",
    "Input Format\n",
    "The only first line contains the integer N denoting the number of layers.\n",
    "\n",
    "\n",
    "Output Format\n",
    "Print in a single line how many minutes are required to prepare N layers.\n",
    "\n",
    "\n",
    "Example Input\n",
    "Input:-\n",
    "2\n",
    "\n",
    "\n",
    "Example Output\n",
    "Output:-\n",
    "4\n",
    "\n",
    "\n",
    "Example Explanation\n",
    "Note: The problem constraints mean that when we test your code, the test cases used in the backend can have input values only within those constraints. You need not implement them in your code. You must ensure your code will work for all such input values!\n"
   ]
  },
  {
   "cell_type": "markdown",
   "metadata": {
    "tags": []
   },
   "source": [
    "### <span style=\"color:blue\">Solution:</span>"
   ]
  },
  {
   "cell_type": "code",
   "execution_count": 15,
   "metadata": {
    "vscode": {
     "languageId": "java"
    }
   },
   "outputs": [
    {
     "name": "stdin",
     "output_type": "stream",
     "text": [
      " 11\n"
     ]
    },
    {
     "name": "stdout",
     "output_type": "stream",
     "text": [
      "22\n"
     ]
    }
   ],
   "source": [
    "Scanner scn = new Scanner(System.in);\n",
    "int A = scn.nextInt();\n",
    "System.out.println(A * 2);"
   ]
  },
  {
   "cell_type": "markdown",
   "metadata": {},
   "source": [
    "## <span style=\"color:green\">Problem-7</span>"
   ]
  },
  {
   "cell_type": "markdown",
   "metadata": {},
   "source": [
    "#### <span style=\"color:blue\">Description:</span>"
   ]
  },
  {
   "cell_type": "markdown",
   "metadata": {},
   "source": [
    "Q7. Total Elapsed Cooking Time\n",
    "Solved\n",
    "feature icon\n",
    "Using hints is now penalty free\n",
    "Use Hint\n",
    "Problem Description\n",
    "You wrote some code to help you cook a gorgeous lasagna from your favorite cookbook. Now, you want to find the total number of minutes you've been cooking for the sum of your preparation time and the time the lasagna has already spent baking in the oven. The preparation time of one layer is 2 minutes. Given the number of layers added to the lasagna and the number of minutes the lasagna has been baking in the oven, find the total elapsed cooking time (prep + bake) in minutes.\n",
    "\n",
    "\n",
    "Problem Constraints\n",
    "1 <= N <= 20\n",
    "0 <= M <= 40\n",
    "\n",
    "\n",
    "Input Format\n",
    "There are 2 lines in the input.\n",
    "The first line contains the integer N denoting the number of layers.\n",
    "The second line contains the integer M denoting the time the lasagna has already spent baking in the oven.\n",
    "\n",
    "\n",
    "Output Format\n",
    "Print in a single line the total elapsed cooking time.\n",
    "\n",
    "\n",
    "Example Input\n",
    "Input 1:-\n",
    "3\n",
    "20\n",
    "\n",
    "Input 2:-\n",
    "1\n",
    "29\n",
    "\n",
    "\n",
    "Example Output\n",
    "Output 1:-\n",
    "26\n",
    "\n",
    "Output 2:-\n",
    "31"
   ]
  },
  {
   "cell_type": "markdown",
   "metadata": {},
   "source": [
    "### <span style=\"color:blue\">Solution:</span>"
   ]
  },
  {
   "cell_type": "code",
   "execution_count": 16,
   "metadata": {
    "vscode": {
     "languageId": "java"
    }
   },
   "outputs": [
    {
     "name": "stdin",
     "output_type": "stream",
     "text": [
      " 12\n",
      " 12\n"
     ]
    },
    {
     "name": "stdout",
     "output_type": "stream",
     "text": [
      "36\n"
     ]
    }
   ],
   "source": [
    "Scanner scn = new Scanner(System.in);\n",
    "int A = scn.nextInt();\n",
    "int B = scn.nextInt();\n",
    "System.out.println((2*A) + B);"
   ]
  },
  {
   "cell_type": "markdown",
   "metadata": {},
   "source": [
    "## <span style=\"color:green\">Problem-8</span>"
   ]
  },
  {
   "cell_type": "markdown",
   "metadata": {},
   "source": [
    "#### <span style=\"color:blue\">Description:</span>"
   ]
  },
  {
   "cell_type": "markdown",
   "metadata": {},
   "source": [
    "Q1. Concatenate Two Numbers\n",
    "\n",
    "Problem Description\n",
    "Given two numbers A and B. Concatenate the two numbers and print it.\n",
    "\n",
    "\n",
    "Problem Constraints\n",
    "1 <= A, B <= 104\n",
    "\n",
    "\n",
    "Input Format\n",
    "There are two input lines\n",
    "The first line has a single integer A.\n",
    "The second line has a single integer B.\n",
    "\n",
    "\n",
    "Output Format\n",
    "Print in a single line the concatenated number.\n",
    "\n",
    "\n",
    "Example Input\n",
    "Input 1:-\n",
    "4\n",
    "5\n",
    "Input 2:-\n",
    "16\n",
    "2\n",
    "\n",
    "\n",
    "Example Output\n",
    "Output 1:-\n",
    "45\n",
    "Output 2:-\n",
    "162\n",
    "\n",
    "\n",
    "Example Explanation\n",
    "Explanation 1:-\n",
    "Concatenation of 4 and 5 is 45.\n",
    "Explanation 2:-\n",
    "Concatenation of 16 and 2 is 162."
   ]
  },
  {
   "cell_type": "markdown",
   "metadata": {},
   "source": [
    "### <span style=\"color:blue\">Solution:</span>"
   ]
  },
  {
   "cell_type": "code",
   "execution_count": 17,
   "metadata": {
    "vscode": {
     "languageId": "java"
    }
   },
   "outputs": [
    {
     "name": "stdin",
     "output_type": "stream",
     "text": [
      " 11\n",
      " 15\n"
     ]
    },
    {
     "name": "stdout",
     "output_type": "stream",
     "text": [
      "1115\n"
     ]
    }
   ],
   "source": [
    "Scanner scn = new Scanner(System.in);\n",
    "        \n",
    "int A = scn.nextInt();\n",
    "int B = scn.nextInt();\n",
    "\n",
    "if (A>= 1 && B <=Math.pow(10,4))\n",
    "{\n",
    "    System.out.println(A +\"\"+B);\n",
    "}"
   ]
  },
  {
   "cell_type": "markdown",
   "metadata": {},
   "source": [
    "## <span style=\"color:green\">Problem-9</span>"
   ]
  },
  {
   "cell_type": "markdown",
   "metadata": {},
   "source": [
    "#### <span style=\"color:blue\">Description:</span>"
   ]
  },
  {
   "cell_type": "markdown",
   "metadata": {},
   "source": [
    "Q2. Average of five Numbers\n",
    "Problem Description\n",
    "\n",
    "Given 5 numbers A, B, C, D, E as input. Print the average of these 5 numbers (correct up to 2 decimal places).\n",
    "\n",
    "\n",
    "Problem Constraints\n",
    "\n",
    "1 <= A, B, C, D, E <= 104\n",
    "\n",
    "\n",
    "Input Format\n",
    "\n",
    "There are five lines in the input.\n",
    "Each line has an integer.\n",
    "\n",
    "\n",
    "Output Format\n",
    "\n",
    "Print the average of the input numbers (correct up to 2 decimal places).\n",
    "\n",
    "\n",
    "Example Input\n",
    "\n",
    "Input:-\n",
    "22\n",
    "51\n",
    "2\n",
    "7\n",
    "73\n",
    "\n",
    "\n",
    "Example Output\n",
    "\n",
    "Output:-\n",
    "31.00"
   ]
  },
  {
   "cell_type": "markdown",
   "metadata": {},
   "source": [
    "### <span style=\"color:blue\">Solution:</span>"
   ]
  },
  {
   "cell_type": "code",
   "execution_count": 22,
   "metadata": {
    "vscode": {
     "languageId": "java"
    }
   },
   "outputs": [
    {
     "name": "stdin",
     "output_type": "stream",
     "text": [
      " 12\n",
      " 1\n",
      " 11\n",
      " 11\n",
      " 15\n"
     ]
    },
    {
     "name": "stdout",
     "output_type": "stream",
     "text": [
      "10.00\n"
     ]
    }
   ],
   "source": [
    "import java.text.DecimalFormat;\n",
    "\n",
    "Scanner scn = new Scanner(System.in);\n",
    "float A=scn.nextFloat();\n",
    "float B=scn.nextFloat();\n",
    "float C=scn.nextFloat();\n",
    "float D=scn.nextFloat();\n",
    "float E=scn.nextFloat();\n",
    "double avg=(A+B+C+D+E)/5;\n",
    "// Creating an object of DecimalFormat class\n",
    "DecimalFormat df_obj = new DecimalFormat(\"0.00\");\n",
    "System.out.println(df_obj.format(avg));"
   ]
  },
  {
   "cell_type": "markdown",
   "metadata": {},
   "source": [
    "## <span style=\"color:green\">Problem-10</span>"
   ]
  },
  {
   "cell_type": "markdown",
   "metadata": {},
   "source": [
    "#### <span style=\"color:blue\">Description:</span>"
   ]
  },
  {
   "cell_type": "markdown",
   "metadata": {},
   "source": []
  },
  {
   "cell_type": "markdown",
   "metadata": {},
   "source": [
    "### <span style=\"color:blue\">Solution:</span>"
   ]
  },
  {
   "cell_type": "code",
   "execution_count": null,
   "metadata": {
    "vscode": {
     "languageId": "java"
    }
   },
   "outputs": [],
   "source": []
  },
  {
   "cell_type": "markdown",
   "metadata": {},
   "source": [
    "## <span style=\"color:green\">Problem-11</span>"
   ]
  },
  {
   "cell_type": "markdown",
   "metadata": {},
   "source": [
    "#### <span style=\"color:blue\">Description:</span>"
   ]
  },
  {
   "cell_type": "markdown",
   "metadata": {},
   "source": []
  },
  {
   "cell_type": "markdown",
   "metadata": {},
   "source": [
    "### <span style=\"color:blue\">Solution:</span>"
   ]
  },
  {
   "cell_type": "code",
   "execution_count": null,
   "metadata": {
    "vscode": {
     "languageId": "java"
    }
   },
   "outputs": [],
   "source": []
  },
  {
   "cell_type": "markdown",
   "metadata": {},
   "source": [
    "## <span style=\"color:green\">Problem-12</span>"
   ]
  },
  {
   "cell_type": "markdown",
   "metadata": {},
   "source": [
    "#### <span style=\"color:blue\">Description:</span>"
   ]
  },
  {
   "cell_type": "markdown",
   "metadata": {},
   "source": []
  },
  {
   "cell_type": "markdown",
   "metadata": {},
   "source": [
    "### <span style=\"color:blue\">Solution:</span>"
   ]
  },
  {
   "cell_type": "code",
   "execution_count": null,
   "metadata": {
    "vscode": {
     "languageId": "java"
    }
   },
   "outputs": [],
   "source": []
  },
  {
   "cell_type": "markdown",
   "metadata": {},
   "source": [
    "## <span style=\"color:green\">Problem-13</span>"
   ]
  },
  {
   "cell_type": "markdown",
   "metadata": {},
   "source": [
    "#### <span style=\"color:blue\">Description:</span>"
   ]
  },
  {
   "cell_type": "markdown",
   "metadata": {},
   "source": []
  },
  {
   "cell_type": "markdown",
   "metadata": {},
   "source": [
    "### <span style=\"color:blue\">Solution:</span>"
   ]
  },
  {
   "cell_type": "code",
   "execution_count": null,
   "metadata": {
    "vscode": {
     "languageId": "java"
    }
   },
   "outputs": [],
   "source": []
  },
  {
   "cell_type": "markdown",
   "metadata": {},
   "source": [
    "## <span style=\"color:green\">Problem-14</span>"
   ]
  },
  {
   "cell_type": "markdown",
   "metadata": {},
   "source": [
    "#### <span style=\"color:blue\">Description:</span>"
   ]
  },
  {
   "cell_type": "markdown",
   "metadata": {},
   "source": []
  },
  {
   "cell_type": "markdown",
   "metadata": {},
   "source": [
    "### <span style=\"color:blue\">Solution:</span>"
   ]
  },
  {
   "cell_type": "code",
   "execution_count": null,
   "metadata": {
    "vscode": {
     "languageId": "java"
    }
   },
   "outputs": [],
   "source": []
  },
  {
   "cell_type": "markdown",
   "metadata": {},
   "source": [
    "## <span style=\"color:green\">Problem-15</span>"
   ]
  },
  {
   "cell_type": "markdown",
   "metadata": {},
   "source": [
    "#### <span style=\"color:blue\">Description:</span>"
   ]
  },
  {
   "cell_type": "markdown",
   "metadata": {},
   "source": []
  },
  {
   "cell_type": "markdown",
   "metadata": {},
   "source": [
    "### <span style=\"color:blue\">Solution:</span>"
   ]
  },
  {
   "cell_type": "code",
   "execution_count": null,
   "metadata": {
    "vscode": {
     "languageId": "java"
    }
   },
   "outputs": [],
   "source": []
  },
  {
   "cell_type": "markdown",
   "metadata": {},
   "source": [
    "## <span style=\"color:green\">Problem-16</span>"
   ]
  },
  {
   "cell_type": "markdown",
   "metadata": {},
   "source": [
    "#### <span style=\"color:blue\">Description:</span>"
   ]
  },
  {
   "cell_type": "markdown",
   "metadata": {},
   "source": []
  },
  {
   "cell_type": "markdown",
   "metadata": {},
   "source": [
    "### <span style=\"color:blue\">Solution:</span>"
   ]
  },
  {
   "cell_type": "code",
   "execution_count": null,
   "metadata": {
    "vscode": {
     "languageId": "java"
    }
   },
   "outputs": [],
   "source": []
  },
  {
   "cell_type": "markdown",
   "metadata": {},
   "source": [
    "## <span style=\"color:green\">Problem-17</span>"
   ]
  },
  {
   "cell_type": "markdown",
   "metadata": {},
   "source": [
    "#### <span style=\"color:blue\">Description:</span>"
   ]
  },
  {
   "cell_type": "markdown",
   "metadata": {},
   "source": []
  },
  {
   "cell_type": "markdown",
   "metadata": {},
   "source": [
    "### <span style=\"color:blue\">Solution:</span>"
   ]
  },
  {
   "cell_type": "code",
   "execution_count": null,
   "metadata": {
    "vscode": {
     "languageId": "java"
    }
   },
   "outputs": [],
   "source": []
  },
  {
   "cell_type": "markdown",
   "metadata": {},
   "source": [
    "## <span style=\"color:green\">Problem-18</span>"
   ]
  },
  {
   "cell_type": "markdown",
   "metadata": {},
   "source": [
    "#### <span style=\"color:blue\">Description:</span>"
   ]
  },
  {
   "cell_type": "markdown",
   "metadata": {},
   "source": []
  },
  {
   "cell_type": "markdown",
   "metadata": {},
   "source": [
    "### <span style=\"color:blue\">Solution:</span>"
   ]
  },
  {
   "cell_type": "code",
   "execution_count": null,
   "metadata": {
    "vscode": {
     "languageId": "java"
    }
   },
   "outputs": [],
   "source": []
  },
  {
   "cell_type": "markdown",
   "metadata": {},
   "source": [
    "## <span style=\"color:green\">Problem-19</span>"
   ]
  },
  {
   "cell_type": "markdown",
   "metadata": {},
   "source": [
    "#### <span style=\"color:blue\">Description:</span>"
   ]
  },
  {
   "cell_type": "markdown",
   "metadata": {},
   "source": []
  },
  {
   "cell_type": "markdown",
   "metadata": {},
   "source": [
    "### <span style=\"color:blue\">Solution:</span>"
   ]
  },
  {
   "cell_type": "code",
   "execution_count": null,
   "metadata": {
    "vscode": {
     "languageId": "java"
    }
   },
   "outputs": [],
   "source": []
  },
  {
   "cell_type": "markdown",
   "metadata": {},
   "source": [
    "## <span style=\"color:green\">Problem-20</span>"
   ]
  },
  {
   "cell_type": "markdown",
   "metadata": {},
   "source": [
    "#### <span style=\"color:blue\">Description:</span>"
   ]
  },
  {
   "cell_type": "markdown",
   "metadata": {},
   "source": []
  },
  {
   "cell_type": "markdown",
   "metadata": {},
   "source": [
    "### <span style=\"color:blue\">Solution:</span>"
   ]
  },
  {
   "cell_type": "code",
   "execution_count": null,
   "metadata": {
    "vscode": {
     "languageId": "java"
    }
   },
   "outputs": [],
   "source": []
  }
 ],
 "metadata": {
  "kernelspec": {
   "display_name": "Java",
   "language": "java",
   "name": "java"
  },
  "language_info": {
   "codemirror_mode": "java",
   "file_extension": ".jshell",
   "mimetype": "text/x-java-source",
   "name": "Java",
   "pygments_lexer": "java",
   "version": "11.0.18+10-LTS"
  }
 },
 "nbformat": 4,
 "nbformat_minor": 4
}
