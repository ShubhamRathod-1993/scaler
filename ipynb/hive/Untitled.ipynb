{
 "cells": [
  {
   "cell_type": "code",
   "execution_count": 4,
   "id": "e1f0b7a8-adb0-4976-88e3-d38e5920c019",
   "metadata": {},
   "outputs": [
    {
     "data": {
      "text/html": [
       "Unable to connect to Hive server. Check that the server is running."
      ]
     },
     "metadata": {},
     "output_type": "display_data",
     "source": "kernel"
    }
   ],
   "source": [
    "hiveL//127.0.0.\n",
    "select date_sub(current_date,1) dd"
   ]
  }
 ],
 "metadata": {
  "kernelspec": {
   "display_name": "Hive",
   "language": "sql",
   "name": "hive"
  },
  "language_info": {
   "file_extension": ".sql",
   "mimetype": "text/x-sh",
   "name": "sql"
  }
 },
 "nbformat": 4,
 "nbformat_minor": 5
}
