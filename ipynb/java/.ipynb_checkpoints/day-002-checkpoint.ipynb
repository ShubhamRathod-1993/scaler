{
 "cells": [
  {
   "cell_type": "markdown",
   "metadata": {},
   "source": [
    "# <span style=\"color:red\">DAY-2</span>"
   ]
  },
  {
   "cell_type": "markdown",
   "metadata": {},
   "source": [
    "## <span style=\"color:pink\">Title:</span> <span style=\"color:orange\">Beginner: If-Else</span>"
   ]
  },
  {
   "cell_type": "code",
   "execution_count": 2,
   "metadata": {},
   "outputs": [],
   "source": [
    "import java.lang.*;\n",
    "import java.util.*;"
   ]
  },
  {
   "cell_type": "code",
   "execution_count": 6,
   "metadata": {},
   "outputs": [],
   "source": [
    "import java.lang.*;\n",
    "import java.util.*;\n",
    "\n",
    "public class Main {\n",
    "    public static void main(String[] args) {\n",
    "        System.out.println(\"Hello\");\n",
    "    }\n",
    "}"
   ]
  },
  {
   "cell_type": "markdown",
   "metadata": {},
   "source": [
    "## <span style=\"color:green\">Problem-1</span>"
   ]
  },
  {
   "cell_type": "markdown",
   "metadata": {},
   "source": [
    "#### <span style=\"color:blue\">Description:</span>"
   ]
  },
  {
   "cell_type": "markdown",
   "metadata": {},
   "source": [
    "Q1. Max of two\n",
    "\n",
    "Problem Description\n",
    "\n",
    "Write a program to input two numbers(A & B) from user and print the maximum element among A & B in each line.\n",
    "\n",
    "\n",
    "Problem Constraints\n",
    "\n",
    "1 <= A <= 1000000\n",
    "\n",
    "1 <= B <= 1000000\n",
    "\n",
    "\n",
    "\n",
    "Input Format\n",
    "\n",
    "First line is a single integer A.\n",
    "Second line is a single integer B.\n",
    "\n",
    "\n",
    "\n",
    "Output Format\n",
    "\n",
    "One line containing the greater integer A or B."
   ]
  },
  {
   "cell_type": "markdown",
   "metadata": {},
   "source": [
    "### <span style=\"color:blue\">Solution:</span>"
   ]
  },
  {
   "cell_type": "code",
   "execution_count": 1,
   "metadata": {},
   "outputs": [
    {
     "name": "stdin",
     "output_type": "stream",
     "text": [
      " 12\n",
      " 15\n"
     ]
    },
    {
     "name": "stdout",
     "output_type": "stream",
     "text": [
      "15\n"
     ]
    }
   ],
   "source": [
    "Scanner scn = new Scanner(System.in);\n",
    "int A=scn.nextInt();\n",
    "int B=scn.nextInt();\n",
    "if (A>=1 && A <=1000000 && B>=1 && B <=1000000)\n",
    "    {\n",
    "        if (A == B){\n",
    "            System.out.println(A);\n",
    "        } else if (A > B){\n",
    "            System.out.println(A);\n",
    "        }else {\n",
    "            System.out.println(B);\n",
    "        }\n",
    "    }"
   ]
  },
  {
   "cell_type": "markdown",
   "metadata": {},
   "source": [
    "## <span style=\"color:green\">Problem-2</span>"
   ]
  },
  {
   "cell_type": "markdown",
   "metadata": {},
   "source": [
    "#### <span style=\"color:blue\">Description:</span>"
   ]
  },
  {
   "cell_type": "markdown",
   "metadata": {},
   "source": [
    "Q2. Categorise the number\n",
    "\n",
    "Problem Description\n",
    "\n",
    "Write a program to input a number(A) from user and print\n",
    "\n",
    "1 if it is positive,\n",
    "-1 if it is negative,\n",
    "0 if it's neither positive nor negative.\n",
    "\n",
    "Problem Constraints\n",
    "\n",
    "1 <= A <= 1000000\n",
    "\n",
    "\n",
    "\n",
    "Input Format\n",
    "One line containing an integer A.\n",
    "\n",
    "\n",
    "\n",
    "Output Format\n",
    "One line each 0/1/-1 as per the question.\n",
    "\n",
    "\n",
    "\n",
    "Example Input\n",
    "Input 1:\n",
    "\n",
    "50\n",
    "Input 2:\n",
    "\n",
    "-101\n",
    "Input 3:\n",
    "\n",
    "0\n",
    "\n",
    "\n",
    "Example Output\n",
    "Output 1:\n",
    "\n",
    "1\n",
    "Output 2:\n",
    "\n",
    "-1\n",
    "Output 3:\n",
    "\n",
    "0\n",
    "\n",
    "\n",
    "Example Explanation\n",
    "Explanation 1:\n",
    "\n",
    "Clearly, 50 is positive.\n",
    "Explanation 2:\n",
    "\n",
    "Clearly, -101 is negative.\n",
    "Explanation 3:\n",
    "\n",
    "Clearly, 0 is neither positive nor negative."
   ]
  },
  {
   "cell_type": "markdown",
   "metadata": {},
   "source": [
    "### <span style=\"color:blue\">Solution:</span>"
   ]
  },
  {
   "cell_type": "code",
   "execution_count": 7,
   "metadata": {},
   "outputs": [
    {
     "name": "stdin",
     "output_type": "stream",
     "text": [
      " 11\n"
     ]
    },
    {
     "name": "stdout",
     "output_type": "stream",
     "text": [
      "1\n"
     ]
    }
   ],
   "source": [
    "Scanner scn=new Scanner(System.in);\n",
    "int A=scn.nextInt();\n",
    "if (A==0)\n",
    "    {\n",
    "        System.out.println(0);\n",
    "    } else if (A>0) \n",
    "    {\n",
    "        System.out.println(1);\n",
    "    }\n",
    "else\n",
    "        {\n",
    "            System.out.println(-1);\n",
    "        }"
   ]
  },
  {
   "cell_type": "markdown",
   "metadata": {},
   "source": [
    "## <span style=\"color:green\">Problem-3</span>"
   ]
  },
  {
   "cell_type": "markdown",
   "metadata": {},
   "source": [
    "#### <span style=\"color:blue\">Description:</span>"
   ]
  },
  {
   "cell_type": "markdown",
   "metadata": {},
   "source": [
    "Q3. Check even/odd\n",
    "\n",
    "Problem Description\n",
    "Write a program to input an integer from user and print 1 if it is odd otherwise print 0.\n",
    "\n",
    "Problem Constraints\n",
    "1 <= N <= 1000000\n",
    "\n",
    "\n",
    "\n",
    "Input Format\n",
    "One line containing an integer N.\n",
    "\n",
    "\n",
    "\n",
    "Output Format\n",
    "Print either 1 or 0 as per the question.\n",
    "\n",
    "\n",
    "\n",
    "Example Input\n",
    "Input 1:\n",
    "\n",
    "5\n",
    "Input 2:\n",
    "\n",
    "1000\n",
    "\n",
    "\n",
    "Example Output\n",
    "Output 1:\n",
    "\n",
    "1\n",
    "Output 2:\n",
    "\n",
    "0\n",
    "\n",
    "\n",
    "Example Explanation\n",
    "Explanation 1:\n",
    "\n",
    "Clearly, 5 is odd.\n",
    "Explanation 2:\n",
    "\n",
    "Clearly, 1000 is even."
   ]
  },
  {
   "cell_type": "markdown",
   "metadata": {},
   "source": [
    "### <span style=\"color:blue\">Solution:</span>"
   ]
  },
  {
   "cell_type": "code",
   "execution_count": 8,
   "metadata": {},
   "outputs": [
    {
     "name": "stdin",
     "output_type": "stream",
     "text": [
      " 12\n"
     ]
    },
    {
     "name": "stdout",
     "output_type": "stream",
     "text": [
      "0\n"
     ]
    }
   ],
   "source": [
    "Scanner scn = new Scanner(System.in);\n",
    "int N=scn.nextInt();\n",
    "if (N>=1 && N<=1000000 ) {\n",
    "    if (N%2!=0){\n",
    "        System.out.println(1);\n",
    "    } else {\n",
    "        System.out.println(0);\n",
    "    };\n",
    "}"
   ]
  },
  {
   "cell_type": "markdown",
   "metadata": {},
   "source": [
    "## <span style=\"color:green\">Problem-4</span>"
   ]
  },
  {
   "cell_type": "markdown",
   "metadata": {},
   "source": [
    "#### <span style=\"color:blue\">Description:</span>"
   ]
  },
  {
   "cell_type": "markdown",
   "metadata": {},
   "source": [
    "Q4. Which Month?\n",
    "\n",
    "Problem Description\n",
    "\n",
    "Write a program to input an integer(A) from user and print the Ath month of the year.\n",
    "\n",
    "Months list: {January, February, March, April, May, June, July, August, September, October, November, December}\n",
    "\n",
    "\n",
    "Problem Constraints\n",
    "\n",
    "1 <= A <= 12\n",
    "\n",
    "\n",
    "\n",
    "Input Format\n",
    "\n",
    "One line containing an integer integer A.\n",
    "\n",
    "\n",
    "\n",
    "Output Format\n",
    "\n",
    "One line containing the Ath month of the year.\n",
    "\n",
    "\n",
    "\n",
    "Example Input\n",
    "\n",
    "Input 1:\n",
    "\n",
    "1\n",
    "Input 2:\n",
    "\n",
    "6\n",
    "\n",
    "\n",
    "Example Output\n",
    "\n",
    "Output 1:\n",
    "\n",
    "January\n",
    "Output 1:\n",
    "\n",
    "June\n",
    "\n",
    "\n",
    "Example Explanation\n",
    "\n",
    "Explanation 1:\n",
    "\n",
    "Clearly, January is the 1st month.\n",
    "Explanation 2:\n",
    "\n",
    "Clearly, June is the 6th month."
   ]
  },
  {
   "cell_type": "markdown",
   "metadata": {},
   "source": [
    "### <span style=\"color:blue\">Solution:</span>"
   ]
  },
  {
   "cell_type": "code",
   "execution_count": 12,
   "metadata": {},
   "outputs": [
    {
     "name": "stdin",
     "output_type": "stream",
     "text": [
      " 10\n"
     ]
    },
    {
     "name": "stdout",
     "output_type": "stream",
     "text": [
      "October\n"
     ]
    }
   ],
   "source": [
    "import java.text.*;\n",
    "\n",
    "Scanner scn = new Scanner(System.in);\n",
    "int A= scn.nextInt();\n",
    "String month = \"invalid\";\n",
    "DateFormatSymbols dfs = new DateFormatSymbols();\n",
    "String[] months = dfs.getMonths();\n",
    "if (A>=1 && A <=12){\n",
    "    A=A-1;\n",
    "    month = months[A];\n",
    "    System.out.println(month);\n",
    "};"
   ]
  },
  {
   "cell_type": "markdown",
   "metadata": {},
   "source": [
    "## <span style=\"color:green\">Problem-5</span>"
   ]
  },
  {
   "cell_type": "markdown",
   "metadata": {},
   "source": [
    "#### <span style=\"color:blue\">Description:</span>"
   ]
  },
  {
   "cell_type": "markdown",
   "metadata": {},
   "source": [
    "Q5. Max of three\n",
    "\n",
    "Problem Description\n",
    "Write a program to input three numbers(A, B & C) from user and print the maximum element among A, B & C in each line.\n",
    "\n",
    "Problem Constraints\n",
    "1 <= A <= 1000000\n",
    "\n",
    "1 <= B <= 1000000\n",
    "\n",
    "1 <= C <= 1000000\n",
    "\n",
    "\n",
    "\n",
    "Input Format\n",
    "First line is a single integer A.\n",
    "Second line is a single integer B.\n",
    "Third line is a single integer C.\n",
    "\n",
    "\n",
    "\n",
    "Output Format\n",
    "One line containing an integer as per the question.\n",
    "\n",
    "\n",
    "\n",
    "Example Input\n",
    "Input 1:\n",
    "\n",
    "5 \n",
    "6 \n",
    "7\n",
    "Input 2:\n",
    "\n",
    "1000 \n",
    "10000 \n",
    "100000\n",
    "\n",
    "\n",
    "Example Output\n",
    "Output 1:\n",
    "\n",
    "7\n",
    "Output 2:\n",
    "\n",
    "100000\n",
    "\n",
    "\n",
    "Example Explanation\n",
    "Explanation 1:\n",
    "\n",
    "Clearly, among 5, 6 and 7, 7 is maximum.\n",
    "Explanation 2:\n",
    "\n",
    "Clearly, among 1000, 10000 and 100000, 100000 is maximum."
   ]
  },
  {
   "cell_type": "markdown",
   "metadata": {},
   "source": [
    "### <span style=\"color:blue\">Solution:</span>"
   ]
  },
  {
   "cell_type": "code",
   "execution_count": 13,
   "metadata": {},
   "outputs": [
    {
     "name": "stdin",
     "output_type": "stream",
     "text": [
      " 7\n",
      " 15\n",
      " 15\n"
     ]
    },
    {
     "name": "stdout",
     "output_type": "stream",
     "text": [
      "15\n"
     ]
    }
   ],
   "source": [
    "Scanner scn = new Scanner(System.in);\n",
    "int A=scn.nextInt();\n",
    "int B=scn.nextInt();\n",
    "int C=scn.nextInt();\n",
    "\n",
    "if (A >=1 && A <=1000000 && B >=1 && B <=1000000 && C>=1 && C<=1000000 )\n",
    "{\n",
    "    int math_val=Math.max(A,B);\n",
    "    // System.out.println(math_val);\n",
    "    if(math_val>C)\n",
    "    {\n",
    "        System.out.println(math_val);\n",
    "    } else {\n",
    "        System.out.println(C);\n",
    "    }\n",
    "}"
   ]
  },
  {
   "cell_type": "markdown",
   "metadata": {},
   "source": [
    "## <span style=\"color:green\">Problem-6</span>"
   ]
  },
  {
   "cell_type": "markdown",
   "metadata": {},
   "source": [
    "#### <span style=\"color:blue\">Description:</span>"
   ]
  },
  {
   "cell_type": "markdown",
   "metadata": {},
   "source": [
    "Q6. Percentage and Grade\n",
    "\n",
    "Problem Description\n",
    "Write a program to calculate the percentage (according to marks of a student) and grade (according to the percentage of a student). Five numbers(A, B, C, D & E) represent the marks of a student in 5 subjects which are out of 100. Print the percentage and the grade of the student.\n",
    "\n",
    "If percentage >= 90% : Grade A\n",
    "If percentage >= 80% but <90 : Grade B\n",
    "If percentage >= 70% but <80: Grade C\n",
    "If percentage >= 60% but <70: Grade D\n",
    "If percentage >= 40% but <60: Grade E\n",
    "If percentage < 40%: Grade F\n",
    "\n",
    "\n",
    "NOTE: You have to take the lowest integer of the percentage. E.g. 90.8% will be treated as 90%.\n",
    "\n",
    "\n",
    "Input Format\n",
    "There will be five lines of inputs as following:\n",
    "The five lines contain the 5 subject marks of the student in numerical format.\n",
    "\n",
    "\n",
    "Output Format\n",
    "The first line indicates the percentage in integer format.\n",
    "The next line displays the grade in string format.\n",
    "\n",
    "\n",
    "Example Input\n",
    "50\n",
    "60\n",
    "70\n",
    "80\n",
    "90\n",
    "\n",
    "\n",
    "Example Output\n",
    "70\n",
    "C"
   ]
  },
  {
   "cell_type": "markdown",
   "metadata": {},
   "source": [
    "### <span style=\"color:blue\">Solution:</span>"
   ]
  },
  {
   "cell_type": "code",
   "execution_count": 14,
   "metadata": {},
   "outputs": [
    {
     "name": "stdin",
     "output_type": "stream",
     "text": [
      " 1\n",
      " 12\n",
      " 15\n",
      " 15\n",
      " 15\n"
     ]
    },
    {
     "name": "stdout",
     "output_type": "stream",
     "text": [
      "11\n",
      "F\n"
     ]
    }
   ],
   "source": [
    "Scanner scn=new Scanner(System.in);\n",
    "int total_mark=0;\n",
    "int curr_val;\n",
    "int i;\n",
    "\n",
    "for (i=0;i<5;i++) {\n",
    "    curr_val=scn.nextInt();\n",
    "    total_mark+=curr_val;\n",
    "}\n",
    "int avg_mark=(total_mark/5);\n",
    "System.out.println(avg_mark);\n",
    "int prcntg=avg_mark*100/100;\n",
    "\n",
    "if (prcntg >= 90){\n",
    "    System.out.println('A');\n",
    "}else if (prcntg >= 80){\n",
    "    System.out.println('B');   \n",
    "}else  if (prcntg >= 70){\n",
    "    System.out.println('C');   \n",
    "}else  if (prcntg >= 60){\n",
    "    System.out.println('D');   \n",
    "}else if (prcntg >= 40){\n",
    "    System.out.println('E');   \n",
    "} else {\n",
    "    System.out.println('F');\n",
    "}"
   ]
  },
  {
   "cell_type": "markdown",
   "metadata": {},
   "source": [
    "## <span style=\"color:green\">Problem-7</span>"
   ]
  },
  {
   "cell_type": "markdown",
   "metadata": {},
   "source": [
    "#### <span style=\"color:blue\">Description:</span>"
   ]
  },
  {
   "cell_type": "markdown",
   "metadata": {},
   "source": [
    "Q7. Which triangle?\n",
    "\n",
    "Problem Description\n",
    "\n",
    "Write a program to input from user three numbers(A, B & C) representing side lengths of a triangle.\n",
    "\n",
    "You have to print if the traingle is \"equilateral\", \"scalene\" or \"isosceles\".\n",
    "\n",
    "\n",
    "\n",
    "Problem Constraints\n",
    "\n",
    "1 <= A <= 100000\n",
    "\n",
    "1 <= B <= 100000\n",
    "\n",
    "1 <= C <= 100000\n",
    "\n",
    "\n",
    "\n",
    "Input Format\n",
    "\n",
    "One line containing three space separated integers A, B & C.\n",
    "\n",
    "\n",
    "\n",
    "Output Format\n",
    "\n",
    "One string either \"equilateral\", \"scalene\" or \"isosceles\".\n",
    "\n",
    "\n",
    "\n",
    "Example Input\n",
    "\n",
    "Input 1:\n",
    "\n",
    "5 6 7\n",
    "Input 2:\n",
    "\n",
    "30 30 30\n",
    "\n",
    "\n",
    "Example Output\n",
    "\n",
    "Output 1:\n",
    "\n",
    "scalene\n",
    "Output 2:\n",
    "\n",
    "equilateral\n",
    "\n",
    "\n",
    "Example Explanation\n",
    "\n",
    "Explanation 1:\n",
    "\n",
    "Since all sides are different, hence it's a scalene triangle.\n",
    "Explanation 2:\n",
    "\n",
    "Since all sides are same, hence it's a equilateral triangle."
   ]
  },
  {
   "cell_type": "markdown",
   "metadata": {},
   "source": [
    "### <span style=\"color:blue\">Solution:</span>"
   ]
  },
  {
   "cell_type": "code",
   "execution_count": 15,
   "metadata": {},
   "outputs": [
    {
     "name": "stdin",
     "output_type": "stream",
     "text": [
      " 15\n",
      " 14\n",
      " 16\n"
     ]
    },
    {
     "name": "stdout",
     "output_type": "stream",
     "text": [
      "scalene\n"
     ]
    }
   ],
   "source": [
    "Scanner scn=new Scanner(System.in);\n",
    "int A=scn.nextInt();\n",
    "int B=scn.nextInt();\n",
    "int C=scn.nextInt();\n",
    "if (A ==B && B==C && C==A){\n",
    "    System.out.println(\"equilateral\");\n",
    "} else if (A==B || B==C || C==A){\n",
    "    System.out.println(\"isosceles\");\n",
    "} else{\n",
    "    System.out.println(\"scalene\");\n",
    "}"
   ]
  },
  {
   "cell_type": "markdown",
   "metadata": {},
   "source": [
    "## <span style=\"color:green\">Problem-8</span>"
   ]
  },
  {
   "cell_type": "markdown",
   "metadata": {},
   "source": [
    "#### <span style=\"color:blue\">Description:</span>"
   ]
  },
  {
   "cell_type": "markdown",
   "metadata": {},
   "source": [
    "Q8. Min of two\n",
    "\n",
    "Problem Description\n",
    "Write a program to input two numbers(A & B) from user and print the minimum element among A & B in each line.\n",
    "\n",
    "\n",
    "Problem Constraints\n",
    "1 <= A <= 1000000\n",
    "\n",
    "1 <= B <= 1000000\n",
    "\n",
    "\n",
    "\n",
    "Input Format\n",
    "First line is a single integer A.\n",
    "Second line is a single integer B.\n",
    "\n",
    "\n",
    "\n",
    "Output Format\n",
    "One line containing an integer as per the question.\n",
    "\n",
    "\n",
    "\n",
    "Example Input\n",
    "Input 1:\n",
    "\n",
    "5 \n",
    "6\n",
    "Input 2:\n",
    "\n",
    "1000 \n",
    "10000\n",
    "\n",
    "\n",
    "Example Output\n",
    "Output 1:\n",
    "\n",
    "5\n",
    "Output 2:\n",
    "\n",
    "1000\n",
    "\n",
    "\n",
    "Example Explanation\n",
    "Explanation 1:\n",
    "\n",
    "Clearly, among 5 and 6, 5 is minimum.\n",
    "Explanation 2:\n",
    "\n",
    "Clearly, among 1000 and 10000, 1000 is minimum."
   ]
  },
  {
   "cell_type": "markdown",
   "metadata": {},
   "source": [
    "### <span style=\"color:blue\">Solution:</span>"
   ]
  },
  {
   "cell_type": "code",
   "execution_count": 16,
   "metadata": {},
   "outputs": [
    {
     "name": "stdin",
     "output_type": "stream",
     "text": [
      " 15\n",
      " 43\n"
     ]
    },
    {
     "name": "stdout",
     "output_type": "stream",
     "text": [
      "15\n"
     ]
    }
   ],
   "source": [
    "Scanner scn=new Scanner(System.in);\n",
    "int A=scn.nextInt();\n",
    "int B=scn.nextInt();\n",
    "if (A<B){\n",
    "    System.out.println(A);\n",
    "} else {\n",
    "    System.out.println(B);\n",
    "}"
   ]
  },
  {
   "cell_type": "markdown",
   "metadata": {},
   "source": [
    "## <span style=\"color:green\">Problem-9</span>"
   ]
  },
  {
   "cell_type": "markdown",
   "metadata": {},
   "source": [
    "#### <span style=\"color:blue\">Description:</span>"
   ]
  },
  {
   "cell_type": "markdown",
   "metadata": {},
   "source": [
    "Q1. Floor of A/B\n",
    "\n",
    "Problem Description\n",
    "Given two numbers A and B. Print the floor of A/B.\n",
    "\n",
    "Problem Constraints\n",
    "1 <= A, B <= 104\n",
    "\n",
    "\n",
    "Input Format\n",
    "There are two input lines\n",
    "The first line has a single integer A.\n",
    "The second line has a single integer B.\n",
    "\n",
    "\n",
    "Output Format\n",
    "Print the floor of A/B in a single line.\n",
    "\n",
    "\n",
    "Example Input\n",
    "Input 1:-\n",
    "4\n",
    "5\n",
    "Input 2:-\n",
    "16\n",
    "2\n",
    "\n",
    "\n",
    "Example Output\n",
    "Output 1:-\n",
    "0\n",
    "Output 2:-\n",
    "8\n",
    "\n",
    "\n",
    "Example Explanation\n",
    "Explanation 1:-\n",
    "floor(4/5) = 0\n",
    "Explanation 2:-\n",
    "floor(16/2) = 8"
   ]
  },
  {
   "cell_type": "markdown",
   "metadata": {},
   "source": [
    "### <span style=\"color:blue\">Solution:</span>"
   ]
  },
  {
   "cell_type": "code",
   "execution_count": 1,
   "metadata": {},
   "outputs": [
    {
     "name": "stdin",
     "output_type": "stream",
     "text": [
      " 15\n",
      " 46\n"
     ]
    },
    {
     "name": "stdout",
     "output_type": "stream",
     "text": [
      "0\n"
     ]
    }
   ],
   "source": [
    "Scanner scn=new Scanner(System.in);\n",
    "int A=scn.nextInt();\n",
    "int B=scn.nextInt();\n",
    "int floor_val=(int)Math.floor(A/B);\n",
    "if (A>=1 && A<=Math.pow(10,4)){\n",
    "    System.out.println(floor_val);\n",
    "}"
   ]
  },
  {
   "cell_type": "markdown",
   "metadata": {},
   "source": [
    "## <span style=\"color:green\">Problem-10</span>"
   ]
  },
  {
   "cell_type": "markdown",
   "metadata": {},
   "source": [
    "#### <span style=\"color:blue\">Description:</span>"
   ]
  },
  {
   "cell_type": "markdown",
   "metadata": {},
   "source": [
    "Q2. Min of three\n",
    "\n",
    "Problem Description\n",
    "Write a program to input three numbers(A, B & C) from user and print the minimum element among A, B & C.\n",
    "\n",
    "Problem Constraints\n",
    "1 <= A <= 1000000\n",
    "\n",
    "1 <= B <= 1000000\n",
    "\n",
    "1 <= C <= 1000000\n",
    "\n",
    "\n",
    "\n",
    "Input Format\n",
    "First line is a single integer A.\n",
    "Second line is a single integer B.\n",
    "Third line is a single integer C.\n",
    "\n",
    "\n",
    "\n",
    "Output Format\n",
    "One line containing an integer as per the question.\n",
    "\n",
    "\n",
    "\n",
    "Example Input\n",
    "Input 1:\n",
    "\n",
    "5 \n",
    "6 \n",
    "7\n",
    "Input 2:\n",
    "\n",
    "1000 \n",
    "10000 \n",
    "100000\n",
    "\n",
    "\n",
    "Example Output\n",
    "Output 1:-\n",
    "5\n",
    "Output 2:-\n",
    "1000\n",
    "\n",
    "\n",
    "Example Explanation\n",
    "Explanation 1:\n",
    "\n",
    "Clearly, among 5, 6 and 7, 5 is minimum.\n",
    "Explanation 2:\n",
    "\n",
    "Clearly, among 1000, 10000 and 100000, 1000 is minimum."
   ]
  },
  {
   "cell_type": "markdown",
   "metadata": {},
   "source": [
    "### <span style=\"color:blue\">Solution:</span>"
   ]
  },
  {
   "cell_type": "code",
   "execution_count": 2,
   "metadata": {},
   "outputs": [
    {
     "name": "stdin",
     "output_type": "stream",
     "text": [
      " 15\n",
      " 45\n",
      " 78\n"
     ]
    },
    {
     "name": "stdout",
     "output_type": "stream",
     "text": [
      "15\n"
     ]
    }
   ],
   "source": [
    "Scanner scn = new Scanner(System.in);\n",
    "\n",
    "int A = scn.nextInt();\n",
    "int B = scn.nextInt();\n",
    "int C = scn.nextInt();\n",
    "\n",
    "int min_val=Math.min(Math.min(A,B),C);\n",
    "\n",
    "System.out.println(min_val);"
   ]
  },
  {
   "cell_type": "markdown",
   "metadata": {},
   "source": [
    "## <span style=\"color:green\">Problem-11</span>"
   ]
  },
  {
   "cell_type": "markdown",
   "metadata": {},
   "source": [
    "#### <span style=\"color:blue\">Description:</span>"
   ]
  },
  {
   "cell_type": "markdown",
   "metadata": {},
   "source": []
  },
  {
   "cell_type": "markdown",
   "metadata": {},
   "source": [
    "### <span style=\"color:blue\">Solution:</span>"
   ]
  },
  {
   "cell_type": "code",
   "execution_count": null,
   "metadata": {},
   "outputs": [],
   "source": []
  },
  {
   "cell_type": "markdown",
   "metadata": {},
   "source": [
    "## <span style=\"color:green\">Problem-12</span>"
   ]
  },
  {
   "cell_type": "markdown",
   "metadata": {},
   "source": [
    "#### <span style=\"color:blue\">Description:</span>"
   ]
  },
  {
   "cell_type": "markdown",
   "metadata": {},
   "source": []
  },
  {
   "cell_type": "markdown",
   "metadata": {},
   "source": [
    "### <span style=\"color:blue\">Solution:</span>"
   ]
  },
  {
   "cell_type": "code",
   "execution_count": null,
   "metadata": {},
   "outputs": [],
   "source": []
  },
  {
   "cell_type": "markdown",
   "metadata": {},
   "source": [
    "## <span style=\"color:green\">Problem-13</span>"
   ]
  },
  {
   "cell_type": "markdown",
   "metadata": {},
   "source": [
    "#### <span style=\"color:blue\">Description:</span>"
   ]
  },
  {
   "cell_type": "markdown",
   "metadata": {},
   "source": []
  },
  {
   "cell_type": "markdown",
   "metadata": {},
   "source": [
    "### <span style=\"color:blue\">Solution:</span>"
   ]
  },
  {
   "cell_type": "code",
   "execution_count": null,
   "metadata": {},
   "outputs": [],
   "source": []
  },
  {
   "cell_type": "markdown",
   "metadata": {},
   "source": [
    "## <span style=\"color:green\">Problem-14</span>"
   ]
  },
  {
   "cell_type": "markdown",
   "metadata": {},
   "source": [
    "#### <span style=\"color:blue\">Description:</span>"
   ]
  },
  {
   "cell_type": "markdown",
   "metadata": {},
   "source": []
  },
  {
   "cell_type": "markdown",
   "metadata": {},
   "source": [
    "### <span style=\"color:blue\">Solution:</span>"
   ]
  },
  {
   "cell_type": "code",
   "execution_count": null,
   "metadata": {},
   "outputs": [],
   "source": []
  },
  {
   "cell_type": "markdown",
   "metadata": {},
   "source": [
    "## <span style=\"color:green\">Problem-15</span>"
   ]
  },
  {
   "cell_type": "markdown",
   "metadata": {},
   "source": [
    "#### <span style=\"color:blue\">Description:</span>"
   ]
  },
  {
   "cell_type": "markdown",
   "metadata": {},
   "source": []
  },
  {
   "cell_type": "markdown",
   "metadata": {},
   "source": [
    "### <span style=\"color:blue\">Solution:</span>"
   ]
  },
  {
   "cell_type": "code",
   "execution_count": null,
   "metadata": {},
   "outputs": [],
   "source": []
  },
  {
   "cell_type": "markdown",
   "metadata": {},
   "source": [
    "## <span style=\"color:green\">Problem-16</span>"
   ]
  },
  {
   "cell_type": "markdown",
   "metadata": {},
   "source": [
    "#### <span style=\"color:blue\">Description:</span>"
   ]
  },
  {
   "cell_type": "markdown",
   "metadata": {},
   "source": []
  },
  {
   "cell_type": "markdown",
   "metadata": {},
   "source": [
    "### <span style=\"color:blue\">Solution:</span>"
   ]
  },
  {
   "cell_type": "code",
   "execution_count": null,
   "metadata": {},
   "outputs": [],
   "source": []
  },
  {
   "cell_type": "markdown",
   "metadata": {},
   "source": [
    "## <span style=\"color:green\">Problem-17</span>"
   ]
  },
  {
   "cell_type": "markdown",
   "metadata": {},
   "source": [
    "#### <span style=\"color:blue\">Description:</span>"
   ]
  },
  {
   "cell_type": "markdown",
   "metadata": {},
   "source": []
  },
  {
   "cell_type": "markdown",
   "metadata": {},
   "source": [
    "### <span style=\"color:blue\">Solution:</span>"
   ]
  },
  {
   "cell_type": "code",
   "execution_count": null,
   "metadata": {},
   "outputs": [],
   "source": []
  },
  {
   "cell_type": "markdown",
   "metadata": {},
   "source": [
    "## <span style=\"color:green\">Problem-18</span>"
   ]
  },
  {
   "cell_type": "markdown",
   "metadata": {},
   "source": [
    "#### <span style=\"color:blue\">Description:</span>"
   ]
  },
  {
   "cell_type": "markdown",
   "metadata": {},
   "source": []
  },
  {
   "cell_type": "markdown",
   "metadata": {},
   "source": [
    "### <span style=\"color:blue\">Solution:</span>"
   ]
  },
  {
   "cell_type": "code",
   "execution_count": null,
   "metadata": {},
   "outputs": [],
   "source": []
  },
  {
   "cell_type": "markdown",
   "metadata": {},
   "source": [
    "## <span style=\"color:green\">Problem-19</span>"
   ]
  },
  {
   "cell_type": "markdown",
   "metadata": {},
   "source": [
    "#### <span style=\"color:blue\">Description:</span>"
   ]
  },
  {
   "cell_type": "markdown",
   "metadata": {},
   "source": []
  },
  {
   "cell_type": "markdown",
   "metadata": {},
   "source": [
    "### <span style=\"color:blue\">Solution:</span>"
   ]
  },
  {
   "cell_type": "code",
   "execution_count": null,
   "metadata": {},
   "outputs": [],
   "source": []
  },
  {
   "cell_type": "markdown",
   "metadata": {},
   "source": [
    "## <span style=\"color:green\">Problem-20</span>"
   ]
  },
  {
   "cell_type": "markdown",
   "metadata": {},
   "source": [
    "#### <span style=\"color:blue\">Description:</span>"
   ]
  },
  {
   "cell_type": "markdown",
   "metadata": {},
   "source": []
  },
  {
   "cell_type": "markdown",
   "metadata": {},
   "source": [
    "### <span style=\"color:blue\">Solution:</span>"
   ]
  },
  {
   "cell_type": "code",
   "execution_count": null,
   "metadata": {},
   "outputs": [],
   "source": []
  }
 ],
 "metadata": {
  "kernelspec": {
   "display_name": "Java",
   "language": "java",
   "name": "java"
  },
  "language_info": {
   "codemirror_mode": "java",
   "file_extension": ".jshell",
   "mimetype": "text/x-java-source",
   "name": "Java",
   "pygments_lexer": "java",
   "version": "11.0.18+10-LTS"
  }
 },
 "nbformat": 4,
 "nbformat_minor": 4
}
